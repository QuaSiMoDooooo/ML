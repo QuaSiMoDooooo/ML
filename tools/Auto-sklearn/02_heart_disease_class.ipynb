{
 "cells": [
  {
   "cell_type": "markdown",
   "metadata": {},
   "source": [
    "https://zhuanlan.zhihu.com/p/473403891"
   ]
  },
  {
   "cell_type": "code",
   "execution_count": 7,
   "metadata": {},
   "outputs": [],
   "source": [
    "import pandas as pd\n",
    "import numpy as np\n",
    "import matplotlib.pyplot as plt\n",
    "import seaborn as sns\n",
    "from sklearn.model_selection import train_test_split\n",
    "from sklearn import datasets\n",
    "from sklearn import metrics\n",
    "import autosklearn.regression\n",
    "import autosklearn.classification"
   ]
  },
  {
   "cell_type": "code",
   "execution_count": 3,
   "metadata": {},
   "outputs": [],
   "source": [
    "# import kagglehub\n",
    "\n",
    "# # Download latest version\n",
    "# path = kagglehub.dataset_download(\"arezaei81/heartcsv\")\n",
    "\n",
    "# print(\"Path to dataset files:\", path)"
   ]
  },
  {
   "cell_type": "code",
   "execution_count": 4,
   "metadata": {},
   "outputs": [
    {
     "data": {
      "text/html": [
       "<div>\n",
       "<style scoped>\n",
       "    .dataframe tbody tr th:only-of-type {\n",
       "        vertical-align: middle;\n",
       "    }\n",
       "\n",
       "    .dataframe tbody tr th {\n",
       "        vertical-align: top;\n",
       "    }\n",
       "\n",
       "    .dataframe thead th {\n",
       "        text-align: right;\n",
       "    }\n",
       "</style>\n",
       "<table border=\"1\" class=\"dataframe\">\n",
       "  <thead>\n",
       "    <tr style=\"text-align: right;\">\n",
       "      <th></th>\n",
       "      <th>age</th>\n",
       "      <th>sex</th>\n",
       "      <th>cp</th>\n",
       "      <th>trestbps</th>\n",
       "      <th>chol</th>\n",
       "      <th>fbs</th>\n",
       "      <th>restecg</th>\n",
       "      <th>thalach</th>\n",
       "      <th>exang</th>\n",
       "      <th>oldpeak</th>\n",
       "      <th>slope</th>\n",
       "      <th>ca</th>\n",
       "      <th>thal</th>\n",
       "      <th>target</th>\n",
       "    </tr>\n",
       "  </thead>\n",
       "  <tbody>\n",
       "    <tr>\n",
       "      <th>0</th>\n",
       "      <td>63</td>\n",
       "      <td>1</td>\n",
       "      <td>3</td>\n",
       "      <td>145</td>\n",
       "      <td>233</td>\n",
       "      <td>1</td>\n",
       "      <td>0</td>\n",
       "      <td>150</td>\n",
       "      <td>0</td>\n",
       "      <td>2.3</td>\n",
       "      <td>0</td>\n",
       "      <td>0</td>\n",
       "      <td>1</td>\n",
       "      <td>1</td>\n",
       "    </tr>\n",
       "    <tr>\n",
       "      <th>1</th>\n",
       "      <td>37</td>\n",
       "      <td>1</td>\n",
       "      <td>2</td>\n",
       "      <td>130</td>\n",
       "      <td>250</td>\n",
       "      <td>0</td>\n",
       "      <td>1</td>\n",
       "      <td>187</td>\n",
       "      <td>0</td>\n",
       "      <td>3.5</td>\n",
       "      <td>0</td>\n",
       "      <td>0</td>\n",
       "      <td>2</td>\n",
       "      <td>1</td>\n",
       "    </tr>\n",
       "    <tr>\n",
       "      <th>2</th>\n",
       "      <td>41</td>\n",
       "      <td>0</td>\n",
       "      <td>1</td>\n",
       "      <td>130</td>\n",
       "      <td>204</td>\n",
       "      <td>0</td>\n",
       "      <td>0</td>\n",
       "      <td>172</td>\n",
       "      <td>0</td>\n",
       "      <td>1.4</td>\n",
       "      <td>2</td>\n",
       "      <td>0</td>\n",
       "      <td>2</td>\n",
       "      <td>1</td>\n",
       "    </tr>\n",
       "    <tr>\n",
       "      <th>3</th>\n",
       "      <td>56</td>\n",
       "      <td>1</td>\n",
       "      <td>1</td>\n",
       "      <td>120</td>\n",
       "      <td>236</td>\n",
       "      <td>0</td>\n",
       "      <td>1</td>\n",
       "      <td>178</td>\n",
       "      <td>0</td>\n",
       "      <td>0.8</td>\n",
       "      <td>2</td>\n",
       "      <td>0</td>\n",
       "      <td>2</td>\n",
       "      <td>1</td>\n",
       "    </tr>\n",
       "    <tr>\n",
       "      <th>4</th>\n",
       "      <td>57</td>\n",
       "      <td>0</td>\n",
       "      <td>0</td>\n",
       "      <td>120</td>\n",
       "      <td>354</td>\n",
       "      <td>0</td>\n",
       "      <td>1</td>\n",
       "      <td>163</td>\n",
       "      <td>1</td>\n",
       "      <td>0.6</td>\n",
       "      <td>2</td>\n",
       "      <td>0</td>\n",
       "      <td>2</td>\n",
       "      <td>1</td>\n",
       "    </tr>\n",
       "  </tbody>\n",
       "</table>\n",
       "</div>"
      ],
      "text/plain": [
       "   age  sex  cp  trestbps  chol  fbs  restecg  thalach  exang  oldpeak  slope  \\\n",
       "0   63    1   3       145   233    1        0      150      0      2.3      0   \n",
       "1   37    1   2       130   250    0        1      187      0      3.5      0   \n",
       "2   41    0   1       130   204    0        0      172      0      1.4      2   \n",
       "3   56    1   1       120   236    0        1      178      0      0.8      2   \n",
       "4   57    0   0       120   354    0        1      163      1      0.6      2   \n",
       "\n",
       "   ca  thal  target  \n",
       "0   0     1       1  \n",
       "1   0     2       1  \n",
       "2   0     2       1  \n",
       "3   0     2       1  \n",
       "4   0     2       1  "
      ]
     },
     "execution_count": 4,
     "metadata": {},
     "output_type": "execute_result"
    }
   ],
   "source": [
    "df=pd.read_csv('/home/wtian/play_ground/ML/datasets/heart.csv')\n",
    "df.head()"
   ]
  },
  {
   "cell_type": "code",
   "execution_count": null,
   "metadata": {},
   "outputs": [
    {
     "data": {
      "text/plain": [
       "target\n",
       "1    165\n",
       "0    138\n",
       "Name: count, dtype: int64"
      ]
     },
     "execution_count": 5,
     "metadata": {},
     "output_type": "execute_result"
    }
   ],
   "source": [
    "df['target'].value_counts()\n",
    "# 两类(0=健康，1=心脏病)\n",
    "# 这是一个不平衡的数据集。因此，该模型的准确度得分将不太可靠。"
   ]
  },
  {
   "cell_type": "markdown",
   "metadata": {},
   "source": [
    "我们将首先通过将不平衡数据集直接馈送到 autosklearn 分类器来测试它。稍后我们将调整这两个类的样本数量并测试准确率，看看分类器的表现如何。"
   ]
  },
  {
   "cell_type": "code",
   "execution_count": 6,
   "metadata": {},
   "outputs": [
    {
     "data": {
      "text/plain": [
       "((242, 13), (61, 13), (242,), (61,))"
      ]
     },
     "execution_count": 6,
     "metadata": {},
     "output_type": "execute_result"
    }
   ],
   "source": [
    "#creating X and y \n",
    "X=df.drop(['target'],axis=1)\n",
    "y=df['target']\n",
    "#split into train and test sets\n",
    "X_train, X_test, y_train, y_test= train_test_split(X,y, test_size=0.2, random_state=42)\n",
    "X_train.shape, X_test.shape,y_train.shape, y_test.shape"
   ]
  },
  {
   "cell_type": "code",
   "execution_count": null,
   "metadata": {},
   "outputs": [],
   "source": [
    "automl = autosklearn.classification.AutoSklearnClassifier(\n",
    "    time_left_for_this_task=120,  # 此任务的最长时间 秒\n",
    "    per_run_time_limit=30,  # 每个模型评估的时间\n",
    "    tmp_folder=\"./tmp\",\n",
    "    memory_limit=10240,  # 设置内存限制为10GB\n",
    "    n_jobs=30,  # 设置并行任务数量 \n",
    ")"
   ]
  },
  {
   "cell_type": "code",
   "execution_count": 10,
   "metadata": {},
   "outputs": [
    {
     "name": "stderr",
     "output_type": "stream",
     "text": [
      "/home/wtian/miniconda3/envs/py3.8/lib/python3.8/site-packages/distributed/node.py:182: UserWarning: Port 8787 is already in use.\n",
      "Perhaps you already have a cluster running?\n",
      "Hosting the HTTP server on port 37235 instead\n",
      "  warnings.warn(\n"
     ]
    },
    {
     "data": {
      "text/plain": [
       "AutoSklearnClassifier(ensemble_class=<class 'autosklearn.ensembles.ensemble_selection.EnsembleSelection'>,\n",
       "                      memory_limit=10240, n_jobs=30, per_run_time_limit=30,\n",
       "                      time_left_for_this_task=120, tmp_folder='./tmp')"
      ]
     },
     "execution_count": 10,
     "metadata": {},
     "output_type": "execute_result"
    }
   ],
   "source": [
    "automl.fit(X_train, y_train)"
   ]
  },
  {
   "cell_type": "code",
   "execution_count": 11,
   "metadata": {},
   "outputs": [
    {
     "name": "stdout",
     "output_type": "stream",
     "text": [
      "auto-sklearn results:\n",
      "  Dataset name: 86f43fb9-03fc-11f0-9018-f40270b90ae7\n",
      "  Metric: accuracy\n",
      "  Best validation score: 0.850000\n",
      "  Number of target algorithm runs: 65\n",
      "  Number of successful target algorithm runs: 57\n",
      "  Number of crashed target algorithm runs: 6\n",
      "  Number of target algorithms that exceeded the time limit: 2\n",
      "  Number of target algorithms that exceeded the memory limit: 0\n",
      "\n"
     ]
    }
   ],
   "source": [
    "# sprint_statistics()函数总结了上述搜索和选择的最佳模型的性能\n",
    "print(automl.sprint_statistics())"
   ]
  },
  {
   "cell_type": "code",
   "execution_count": 12,
   "metadata": {},
   "outputs": [
    {
     "name": "stdout",
     "output_type": "stream",
     "text": [
      "          rank  ensemble_weight                type    cost  duration\n",
      "model_id                                                             \n",
      "48           1             0.04       random_forest  0.1500  1.681643\n",
      "25           2             0.20            adaboost  0.1625  2.314760\n",
      "59           3             0.12       random_forest  0.1750  1.766214\n",
      "63           4             0.04            adaboost  0.1750  1.108397\n",
      "49           5             0.30         extra_trees  0.1875  1.617896\n",
      "41           6             0.02       random_forest  0.2000  1.687776\n",
      "2            7             0.02       random_forest  0.2125  3.507249\n",
      "11           8             0.06         extra_trees  0.2375  2.716607\n",
      "58           9             0.02                 mlp  0.2375  1.373683\n",
      "10          10             0.02         extra_trees  0.2500  2.339953\n",
      "51          11             0.02                 lda  0.2500  0.939517\n",
      "23          12             0.14  passive_aggressive  0.3125  2.076517\n"
     ]
    }
   ],
   "source": [
    "# 搜索考虑的所有模型打印排行榜\n",
    "print(automl.leaderboard())"
   ]
  },
  {
   "cell_type": "code",
   "execution_count": 13,
   "metadata": {},
   "outputs": [
    {
     "name": "stdout",
     "output_type": "stream",
     "text": [
      "{2: {'model_id': 2, 'rank': 1, 'cost': 0.21250000000000002, 'ensemble_weight': 0.02, 'data_preprocessor': <autosklearn.pipeline.components.data_preprocessing.DataPreprocessorChoice object at 0x7a73e0d782b0>, 'balancing': Balancing(random_state=1), 'feature_preprocessor': <autosklearn.pipeline.components.feature_preprocessing.FeaturePreprocessorChoice object at 0x7a73e0cff700>, 'classifier': <autosklearn.pipeline.components.classification.ClassifierChoice object at 0x7a73dd7633d0>, 'sklearn_classifier': RandomForestClassifier(max_features=3, n_estimators=512, n_jobs=1,\n",
      "                       random_state=1, warm_start=True)}, 10: {'model_id': 10, 'rank': 2, 'cost': 0.25, 'ensemble_weight': 0.02, 'data_preprocessor': <autosklearn.pipeline.components.data_preprocessing.DataPreprocessorChoice object at 0x7a73e0c8a6a0>, 'balancing': Balancing(random_state=1, strategy='weighting'), 'feature_preprocessor': <autosklearn.pipeline.components.feature_preprocessing.FeaturePreprocessorChoice object at 0x7a73e0ba6f10>, 'classifier': <autosklearn.pipeline.components.classification.ClassifierChoice object at 0x7a73d55f36d0>, 'sklearn_classifier': ExtraTreesClassifier(max_features=3, min_samples_split=10, n_estimators=512,\n",
      "                     n_jobs=1, random_state=1, warm_start=True)}, 11: {'model_id': 11, 'rank': 3, 'cost': 0.23750000000000004, 'ensemble_weight': 0.06, 'data_preprocessor': <autosklearn.pipeline.components.data_preprocessing.DataPreprocessorChoice object at 0x7a73e0c746d0>, 'balancing': Balancing(random_state=1, strategy='weighting'), 'feature_preprocessor': <autosklearn.pipeline.components.feature_preprocessing.FeaturePreprocessorChoice object at 0x7a73e0771d90>, 'classifier': <autosklearn.pipeline.components.classification.ClassifierChoice object at 0x7a73e0789c10>, 'sklearn_classifier': ExtraTreesClassifier(criterion='entropy', max_features=89, min_samples_leaf=2,\n",
      "                     min_samples_split=20, n_estimators=512, n_jobs=1,\n",
      "                     random_state=1, warm_start=True)}, 23: {'model_id': 23, 'rank': 4, 'cost': 0.3125, 'ensemble_weight': 0.14, 'data_preprocessor': <autosklearn.pipeline.components.data_preprocessing.DataPreprocessorChoice object at 0x7a73dd763e80>, 'balancing': Balancing(random_state=1, strategy='weighting'), 'feature_preprocessor': <autosklearn.pipeline.components.feature_preprocessing.FeaturePreprocessorChoice object at 0x7a73d58963d0>, 'classifier': <autosklearn.pipeline.components.classification.ClassifierChoice object at 0x7a73d5896eb0>, 'sklearn_classifier': PassiveAggressiveClassifier(C=0.14833233294431605, average=True,\n",
      "                            loss='squared_hinge', max_iter=32, random_state=1,\n",
      "                            tol=0.00016482166646253793, warm_start=True)}, 25: {'model_id': 25, 'rank': 5, 'cost': 0.16249999999999998, 'ensemble_weight': 0.2, 'data_preprocessor': <autosklearn.pipeline.components.data_preprocessing.DataPreprocessorChoice object at 0x7a73e0ce7e80>, 'balancing': Balancing(random_state=1), 'feature_preprocessor': <autosklearn.pipeline.components.feature_preprocessing.FeaturePreprocessorChoice object at 0x7a73e07683d0>, 'classifier': <autosklearn.pipeline.components.classification.ClassifierChoice object at 0x7a73e0768190>, 'sklearn_classifier': AdaBoostClassifier(algorithm='SAMME',\n",
      "                   base_estimator=DecisionTreeClassifier(max_depth=2),\n",
      "                   learning_rate=0.13167493237005792, n_estimators=56,\n",
      "                   random_state=1)}, 41: {'model_id': 41, 'rank': 6, 'cost': 0.19999999999999996, 'ensemble_weight': 0.02, 'data_preprocessor': <autosklearn.pipeline.components.data_preprocessing.DataPreprocessorChoice object at 0x7a73dd59b5b0>, 'balancing': Balancing(random_state=1), 'feature_preprocessor': <autosklearn.pipeline.components.feature_preprocessing.FeaturePreprocessorChoice object at 0x7a73dfc1bca0>, 'classifier': <autosklearn.pipeline.components.classification.ClassifierChoice object at 0x7a73dfc1b3d0>, 'sklearn_classifier': RandomForestClassifier(bootstrap=False, max_features=2, min_samples_leaf=15,\n",
      "                       min_samples_split=5, n_estimators=512, n_jobs=1,\n",
      "                       random_state=1, warm_start=True)}, 48: {'model_id': 48, 'rank': 7, 'cost': 0.15000000000000002, 'ensemble_weight': 0.04, 'data_preprocessor': <autosklearn.pipeline.components.data_preprocessing.DataPreprocessorChoice object at 0x7a73e0768430>, 'balancing': Balancing(random_state=1), 'feature_preprocessor': <autosklearn.pipeline.components.feature_preprocessing.FeaturePreprocessorChoice object at 0x7a73dfd74820>, 'classifier': <autosklearn.pipeline.components.classification.ClassifierChoice object at 0x7a73dda02130>, 'sklearn_classifier': RandomForestClassifier(max_features=11, min_samples_split=3, n_estimators=512,\n",
      "                       n_jobs=1, random_state=1, warm_start=True)}, 49: {'model_id': 49, 'rank': 8, 'cost': 0.1875, 'ensemble_weight': 0.3, 'data_preprocessor': <autosklearn.pipeline.components.data_preprocessing.DataPreprocessorChoice object at 0x7a73da9f1d00>, 'balancing': Balancing(random_state=1, strategy='weighting'), 'feature_preprocessor': <autosklearn.pipeline.components.feature_preprocessing.FeaturePreprocessorChoice object at 0x7a73d5bbea60>, 'classifier': <autosklearn.pipeline.components.classification.ClassifierChoice object at 0x7a73d5bbe970>, 'sklearn_classifier': ExtraTreesClassifier(max_features=1, min_samples_leaf=4, min_samples_split=11,\n",
      "                     n_estimators=512, n_jobs=1, random_state=1,\n",
      "                     warm_start=True)}, 51: {'model_id': 51, 'rank': 9, 'cost': 0.25, 'ensemble_weight': 0.02, 'data_preprocessor': <autosklearn.pipeline.components.data_preprocessing.DataPreprocessorChoice object at 0x7a73dff289a0>, 'balancing': Balancing(random_state=1), 'feature_preprocessor': <autosklearn.pipeline.components.feature_preprocessing.FeaturePreprocessorChoice object at 0x7a73dd731c40>, 'classifier': <autosklearn.pipeline.components.classification.ClassifierChoice object at 0x7a73dd7314c0>, 'sklearn_classifier': LinearDiscriminantAnalysis(tol=0.00018396924475007985)}, 58: {'model_id': 58, 'rank': 10, 'cost': 0.23750000000000004, 'ensemble_weight': 0.02, 'data_preprocessor': <autosklearn.pipeline.components.data_preprocessing.DataPreprocessorChoice object at 0x7a73d8288820>, 'balancing': Balancing(random_state=1, strategy='weighting'), 'feature_preprocessor': <autosklearn.pipeline.components.feature_preprocessing.FeaturePreprocessorChoice object at 0x7a73d55ebe80>, 'classifier': <autosklearn.pipeline.components.classification.ClassifierChoice object at 0x7a73e078c6a0>, 'sklearn_classifier': MLPClassifier(activation='tanh', alpha=4.8549017964834826e-05, beta_1=0.999,\n",
      "              beta_2=0.9, early_stopping=True, hidden_layer_sizes=(146, 146),\n",
      "              learning_rate_init=0.017443693432609507, max_iter=32,\n",
      "              n_iter_no_change=32, random_state=1, verbose=0, warm_start=True)}, 59: {'model_id': 59, 'rank': 11, 'cost': 0.17500000000000004, 'ensemble_weight': 0.12, 'data_preprocessor': <autosklearn.pipeline.components.data_preprocessing.DataPreprocessorChoice object at 0x7a73d85f37c0>, 'balancing': Balancing(random_state=1, strategy='weighting'), 'feature_preprocessor': <autosklearn.pipeline.components.feature_preprocessing.FeaturePreprocessorChoice object at 0x7a73daf21af0>, 'classifier': <autosklearn.pipeline.components.classification.ClassifierChoice object at 0x7a73daf21430>, 'sklearn_classifier': RandomForestClassifier(max_features=12, min_samples_leaf=3,\n",
      "                       min_samples_split=19, n_estimators=512, n_jobs=1,\n",
      "                       random_state=1, warm_start=True)}, 63: {'model_id': 63, 'rank': 12, 'cost': 0.17500000000000004, 'ensemble_weight': 0.04, 'data_preprocessor': <autosklearn.pipeline.components.data_preprocessing.DataPreprocessorChoice object at 0x7a73da9195e0>, 'balancing': Balancing(random_state=1, strategy='weighting'), 'feature_preprocessor': <autosklearn.pipeline.components.feature_preprocessing.FeaturePreprocessorChoice object at 0x7a73e09f1c70>, 'classifier': <autosklearn.pipeline.components.classification.ClassifierChoice object at 0x7a73e09f1cd0>, 'sklearn_classifier': AdaBoostClassifier(algorithm='SAMME',\n",
      "                   base_estimator=DecisionTreeClassifier(max_depth=3),\n",
      "                   learning_rate=0.11353641840981002, random_state=1)}}\n"
     ]
    }
   ],
   "source": [
    "# 打印有关所考虑模型的信息\n",
    "print(automl.show_models())"
   ]
  },
  {
   "cell_type": "code",
   "execution_count": 14,
   "metadata": {},
   "outputs": [
    {
     "name": "stdout",
     "output_type": "stream",
     "text": [
      "precision score: 0.8787878787878788\n",
      "recall score: 0.90625\n",
      "f1 score: 0.8923076923076922\n",
      "auc score: 0.8841594827586207\n"
     ]
    }
   ],
   "source": [
    "y_pred = automl.predict(X_test)\n",
    "print(\"precision score:\", metrics.precision_score(y_test, y_pred))\n",
    "print(\"recall score:\", metrics.recall_score(y_test, y_pred))\n",
    "print(\"f1 score:\", metrics.f1_score(y_test, y_pred))\n",
    "print(\"auc score:\", metrics.roc_auc_score(y_test, y_pred))"
   ]
  },
  {
   "cell_type": "code",
   "execution_count": 17,
   "metadata": {},
   "outputs": [
    {
     "data": {
      "text/plain": [
       "array([[25,  3],\n",
       "       [ 4, 29]])"
      ]
     },
     "execution_count": 17,
     "metadata": {},
     "output_type": "execute_result"
    }
   ],
   "source": [
    "# 混淆矩阵\n",
    "conf_matrix= metrics.confusion_matrix(y_pred, y_test)\n",
    "conf_matrix"
   ]
  },
  {
   "cell_type": "code",
   "execution_count": 18,
   "metadata": {},
   "outputs": [
    {
     "data": {
      "text/plain": [
       "<Axes: >"
      ]
     },
     "execution_count": 18,
     "metadata": {},
     "output_type": "execute_result"
    },
    {
     "data": {
      "image/png": "[encoded data removed]",
      "text/plain": [
       "<Figure size 640x480 with 2 Axes>"
      ]
     },
     "metadata": {},
     "output_type": "display_data"
    }
   ],
   "source": [
    "sns.heatmap(conf_matrix, annot=True)"
   ]
  },
  {
   "cell_type": "code",
   "execution_count": null,
   "metadata": {},
   "outputs": [],
   "source": []
  }
 ],
 "metadata": {
  "kernelspec": {
   "display_name": "py3.8",
   "language": "python",
   "name": "python3"
  },
  "language_info": {
   "codemirror_mode": {
    "name": "ipython",
    "version": 3
   },
   "file_extension": ".py",
   "mimetype": "text/x-python",
   "name": "python",
   "nbconvert_exporter": "python",
   "pygments_lexer": "ipython3",
   "version": "3.8.20"
  }
 },
 "nbformat": 4,
 "nbformat_minor": 2
}
