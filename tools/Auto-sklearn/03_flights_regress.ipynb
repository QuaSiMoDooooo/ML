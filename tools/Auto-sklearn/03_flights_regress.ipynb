{
 "cells": [
  {
   "cell_type": "markdown",
   "metadata": {},
   "source": [
    "https://zhuanlan.zhihu.com/p/473403891"
   ]
  },
  {
   "cell_type": "code",
   "execution_count": 2,
   "metadata": {},
   "outputs": [],
   "source": [
    "import pandas as pd\n",
    "import numpy as np\n",
    "import matplotlib.pyplot as plt\n",
    "import seaborn as sns\n",
    "from sklearn.model_selection import train_test_split\n",
    "from sklearn import datasets\n",
    "from sklearn import metrics\n",
    "import autosklearn.regression\n",
    "import autosklearn.classification"
   ]
  },
  {
   "cell_type": "code",
   "execution_count": 4,
   "metadata": {},
   "outputs": [
    {
     "data": {
      "text/html": [
       "<div>\n",
       "<style scoped>\n",
       "    .dataframe tbody tr th:only-of-type {\n",
       "        vertical-align: middle;\n",
       "    }\n",
       "\n",
       "    .dataframe tbody tr th {\n",
       "        vertical-align: top;\n",
       "    }\n",
       "\n",
       "    .dataframe thead th {\n",
       "        text-align: right;\n",
       "    }\n",
       "</style>\n",
       "<table border=\"1\" class=\"dataframe\">\n",
       "  <thead>\n",
       "    <tr style=\"text-align: right;\">\n",
       "      <th></th>\n",
       "      <th>year</th>\n",
       "      <th>month</th>\n",
       "      <th>passengers</th>\n",
       "    </tr>\n",
       "  </thead>\n",
       "  <tbody>\n",
       "    <tr>\n",
       "      <th>0</th>\n",
       "      <td>1949</td>\n",
       "      <td>Jan</td>\n",
       "      <td>112</td>\n",
       "    </tr>\n",
       "    <tr>\n",
       "      <th>1</th>\n",
       "      <td>1949</td>\n",
       "      <td>Feb</td>\n",
       "      <td>118</td>\n",
       "    </tr>\n",
       "    <tr>\n",
       "      <th>2</th>\n",
       "      <td>1949</td>\n",
       "      <td>Mar</td>\n",
       "      <td>132</td>\n",
       "    </tr>\n",
       "    <tr>\n",
       "      <th>3</th>\n",
       "      <td>1949</td>\n",
       "      <td>Apr</td>\n",
       "      <td>129</td>\n",
       "    </tr>\n",
       "    <tr>\n",
       "      <th>4</th>\n",
       "      <td>1949</td>\n",
       "      <td>May</td>\n",
       "      <td>121</td>\n",
       "    </tr>\n",
       "  </tbody>\n",
       "</table>\n",
       "</div>"
      ],
      "text/plain": [
       "   year month  passengers\n",
       "0  1949   Jan         112\n",
       "1  1949   Feb         118\n",
       "2  1949   Mar         132\n",
       "3  1949   Apr         129\n",
       "4  1949   May         121"
      ]
     },
     "execution_count": 4,
     "metadata": {},
     "output_type": "execute_result"
    }
   ],
   "source": [
    "#loading the dataset\n",
    "df = pd.read_csv(\"/home/wtian/play_ground/ML/datasets/all_seaborn_built_in_datasets/flights.csv\")\n",
    "df.head()"
   ]
  },
  {
   "cell_type": "code",
   "execution_count": 5,
   "metadata": {},
   "outputs": [
    {
     "data": {
      "text/plain": [
       "((144, 2), (144,))"
      ]
     },
     "execution_count": 5,
     "metadata": {},
     "output_type": "execute_result"
    }
   ],
   "source": [
    "# 使用其他两个特征来预测乘客数量\n",
    "X=df.drop([\"passengers\"],axis=1)\n",
    "y=df[\"passengers\"]\n",
    "X.shape, y.shape"
   ]
  },
  {
   "cell_type": "code",
   "execution_count": 6,
   "metadata": {},
   "outputs": [
    {
     "data": {
      "text/plain": [
       "((115, 2), (29, 2), (115,), (29,))"
      ]
     },
     "execution_count": 6,
     "metadata": {},
     "output_type": "execute_result"
    }
   ],
   "source": [
    "X_train, X_test, y_train, y_test = train_test_split(X, y, test_size=0.2, random_state=42)\n",
    "X_train.shape, X_test.shape,y_train.shape, y_test.shape"
   ]
  },
  {
   "cell_type": "code",
   "execution_count": 17,
   "metadata": {},
   "outputs": [],
   "source": [
    "automl = autosklearn.regression.AutoSklearnRegressor(\n",
    "    time_left_for_this_task=300,  # 此任务的最长时间 秒\n",
    "    per_run_time_limit=30,  # 每个模型评估的时间\n",
    "    tmp_folder=\"./tmp\",\n",
    "    memory_limit=10240,  # 设置内存限制为10GB\n",
    "    n_jobs=30,  # 设置并行任务数量 \n",
    ")"
   ]
  },
  {
   "cell_type": "code",
   "execution_count": 18,
   "metadata": {},
   "outputs": [
    {
     "name": "stderr",
     "output_type": "stream",
     "text": [
      "/home/wtian/miniconda3/envs/py3.8/lib/python3.8/site-packages/autosklearn/data/feature_validator.py:318: UserWarning: Input Column month has generic type object. Autosklearn will treat this column as string. Please ensure that this setting is suitable for your task.\n",
      "  warnings.warn(\n",
      "/home/wtian/miniconda3/envs/py3.8/lib/python3.8/site-packages/distributed/node.py:182: UserWarning: Port 8787 is already in use.\n",
      "Perhaps you already have a cluster running?\n",
      "Hosting the HTTP server on port 45439 instead\n",
      "  warnings.warn(\n",
      "Process pynisher function call:\n",
      "Traceback (most recent call last):\n",
      "  File \"/home/wtian/miniconda3/envs/py3.8/lib/python3.8/multiprocessing/process.py\", line 315, in _bootstrap\n",
      "    self.run()\n",
      "  File \"/home/wtian/miniconda3/envs/py3.8/lib/python3.8/multiprocessing/process.py\", line 108, in run\n",
      "    self._target(*self._args, **self._kwargs)\n",
      "  File \"/home/wtian/miniconda3/envs/py3.8/lib/python3.8/site-packages/pynisher/limit_function_call.py\", line 133, in subprocess_func\n",
      "    return_value = ((func(*args, **kwargs), 0))\n",
      "  File \"/home/wtian/miniconda3/envs/py3.8/lib/python3.8/site-packages/autosklearn/smbo.py\", line 160, in _calculate_metafeatures_encoded\n",
      "    result = calculate_all_metafeatures_encoded_labels(\n",
      "  File \"/home/wtian/miniconda3/envs/py3.8/lib/python3.8/site-packages/autosklearn/metalearning/metafeatures/metafeatures.py\", line 1115, in calculate_all_metafeatures_encoded_labels\n",
      "    return calculate_all_metafeatures(\n",
      "  File \"/home/wtian/miniconda3/envs/py3.8/lib/python3.8/site-packages/autosklearn/metalearning/metafeatures/metafeatures.py\", line 1194, in calculate_all_metafeatures\n",
      "    X_transformed = DPP.fit_transform(X)\n",
      "  File \"/home/wtian/miniconda3/envs/py3.8/lib/python3.8/site-packages/sklearn/base.py\", line 699, in fit_transform\n",
      "    return self.fit(X, **fit_params).transform(X)\n",
      "  File \"/home/wtian/miniconda3/envs/py3.8/lib/python3.8/site-packages/autosklearn/pipeline/components/data_preprocessing/feature_type.py\", line 216, in fit\n",
      "    self.column_transformer.fit(X, y)\n",
      "  File \"/home/wtian/miniconda3/envs/py3.8/lib/python3.8/site-packages/sklearn/compose/_column_transformer.py\", line 470, in fit\n",
      "    self.fit_transform(X, y=y)\n",
      "  File \"/home/wtian/miniconda3/envs/py3.8/lib/python3.8/site-packages/sklearn/compose/_column_transformer.py\", line 507, in fit_transform\n",
      "    result = self._fit_transform(X, y, _fit_transform_one)\n",
      "  File \"/home/wtian/miniconda3/envs/py3.8/lib/python3.8/site-packages/sklearn/compose/_column_transformer.py\", line 434, in _fit_transform\n",
      "    return Parallel(n_jobs=self.n_jobs)(\n",
      "  File \"/home/wtian/miniconda3/envs/py3.8/lib/python3.8/site-packages/joblib/parallel.py\", line 1918, in __call__\n",
      "    return output if self.return_generator else list(output)\n",
      "  File \"/home/wtian/miniconda3/envs/py3.8/lib/python3.8/site-packages/joblib/parallel.py\", line 1847, in _get_sequential_output\n",
      "    res = func(*args, **kwargs)\n",
      "  File \"/home/wtian/miniconda3/envs/py3.8/lib/python3.8/site-packages/sklearn/utils/fixes.py\", line 222, in __call__\n",
      "    return self.function(*args, **kwargs)\n",
      "  File \"/home/wtian/miniconda3/envs/py3.8/lib/python3.8/site-packages/sklearn/pipeline.py\", line 754, in _fit_transform_one\n",
      "    res = transformer.fit_transform(X, y, **fit_params)\n",
      "  File \"/home/wtian/miniconda3/envs/py3.8/lib/python3.8/site-packages/sklearn/pipeline.py\", line 378, in fit_transform\n",
      "    Xt = self._fit(X, y, **fit_params_steps)\n",
      "  File \"/home/wtian/miniconda3/envs/py3.8/lib/python3.8/site-packages/sklearn/pipeline.py\", line 303, in _fit\n",
      "    X, fitted_transformer = fit_transform_one_cached(\n",
      "  File \"/home/wtian/miniconda3/envs/py3.8/lib/python3.8/site-packages/joblib/memory.py\", line 312, in __call__\n",
      "    return self.func(*args, **kwargs)\n",
      "  File \"/home/wtian/miniconda3/envs/py3.8/lib/python3.8/site-packages/sklearn/pipeline.py\", line 756, in _fit_transform_one\n",
      "    res = transformer.fit(X, y, **fit_params).transform(X)\n",
      "  File \"/home/wtian/miniconda3/envs/py3.8/lib/python3.8/site-packages/autosklearn/pipeline/components/base.py\", line 473, in fit\n",
      "    return self.choice.fit(X, y, **kwargs)\n",
      "  File \"/home/wtian/miniconda3/envs/py3.8/lib/python3.8/site-packages/autosklearn/pipeline/components/data_preprocessing/text_encoding/tfidf_encoding.py\", line 85, in fit\n",
      "    self.preprocessor = self.preprocessor.fit(all_text)\n",
      "  File \"/home/wtian/miniconda3/envs/py3.8/lib/python3.8/site-packages/sklearn/feature_extraction/text.py\", line 1823, in fit\n",
      "    X = super().fit_transform(raw_documents)\n",
      "  File \"/home/wtian/miniconda3/envs/py3.8/lib/python3.8/site-packages/sklearn/feature_extraction/text.py\", line 1202, in fit_transform\n",
      "    vocabulary, X = self._count_vocab(raw_documents,\n",
      "  File \"/home/wtian/miniconda3/envs/py3.8/lib/python3.8/site-packages/sklearn/feature_extraction/text.py\", line 1133, in _count_vocab\n",
      "    raise ValueError(\"empty vocabulary; perhaps the documents only\"\n",
      "ValueError: empty vocabulary; perhaps the documents only contain stop words\n"
     ]
    },
    {
     "name": "stdout",
     "output_type": "stream",
     "text": [
      "[WARNING] [2025-03-18 21:52:19,365:Client-EnsembleBuilder] No runs were available to build an ensemble from\n",
      "[WARNING] [2025-03-18 21:52:20,019:Client-EnsembleBuilder] No runs were available to build an ensemble from\n",
      "[WARNING] [2025-03-18 21:52:20,355:Client-EnsembleBuilder] No runs were available to build an ensemble from\n",
      "[WARNING] [2025-03-18 21:52:20,983:Client-EnsembleBuilder] No runs were available to build an ensemble from\n",
      "[WARNING] [2025-03-18 21:52:21,173:Client-EnsembleBuilder] No runs were available to build an ensemble from\n",
      "[WARNING] [2025-03-18 21:52:21,361:Client-EnsembleBuilder] No runs were available to build an ensemble from\n",
      "[WARNING] [2025-03-18 21:52:27,516:Client-EnsembleBuilder] No runs were available to build an ensemble from\n",
      "[WARNING] [2025-03-18 21:52:27,784:Client-EnsembleBuilder] No runs were available to build an ensemble from\n",
      "[WARNING] [2025-03-18 21:52:33,850:Client-EnsembleBuilder] No runs were available to build an ensemble from\n",
      "[WARNING] [2025-03-18 21:52:40,750:Client-EnsembleBuilder] No runs were available to build an ensemble from\n",
      "[WARNING] [2025-03-18 21:52:47,441:Client-EnsembleBuilder] No runs were available to build an ensemble from\n",
      "[WARNING] [2025-03-18 21:52:53,836:Client-EnsembleBuilder] No runs were available to build an ensemble from\n",
      "[WARNING] [2025-03-18 21:53:00,804:Client-EnsembleBuilder] No runs were available to build an ensemble from\n",
      "[WARNING] [2025-03-18 21:53:07,603:Client-EnsembleBuilder] No runs were available to build an ensemble from\n",
      "[WARNING] [2025-03-18 21:53:09,138:Client-EnsembleBuilder] No runs were available to build an ensemble from\n",
      "[WARNING] [2025-03-18 21:53:09,456:Client-EnsembleBuilder] No runs were available to build an ensemble from\n",
      "[WARNING] [2025-03-18 21:53:09,764:Client-EnsembleBuilder] No runs were available to build an ensemble from\n",
      "[WARNING] [2025-03-18 21:53:16,907:Client-EnsembleBuilder] No runs were available to build an ensemble from\n",
      "[WARNING] [2025-03-18 21:53:17,092:Client-EnsembleBuilder] No runs were available to build an ensemble from\n",
      "[WARNING] [2025-03-18 21:53:23,619:Client-EnsembleBuilder] No runs were available to build an ensemble from\n"
     ]
    },
    {
     "data": {
      "text/plain": [
       "AutoSklearnRegressor(ensemble_class=<class 'autosklearn.ensembles.ensemble_selection.EnsembleSelection'>,\n",
       "                     memory_limit=10240, n_jobs=30, per_run_time_limit=30,\n",
       "                     time_left_for_this_task=300, tmp_folder='./tmp')"
      ]
     },
     "execution_count": 18,
     "metadata": {},
     "output_type": "execute_result"
    }
   ],
   "source": [
    "automl.fit(X_train, y_train)"
   ]
  },
  {
   "cell_type": "code",
   "execution_count": 19,
   "metadata": {},
   "outputs": [
    {
     "name": "stdout",
     "output_type": "stream",
     "text": [
      "auto-sklearn results:\n",
      "  Dataset name: 236a6aa5-0400-11f0-a93e-f40270b90ae7\n",
      "  Metric: r2\n",
      "  Best validation score: 0.983343\n",
      "  Number of target algorithm runs: 116\n",
      "  Number of successful target algorithm runs: 23\n",
      "  Number of crashed target algorithm runs: 93\n",
      "  Number of target algorithms that exceeded the time limit: 0\n",
      "  Number of target algorithms that exceeded the memory limit: 0\n",
      "\n"
     ]
    }
   ],
   "source": [
    "# sprint_statistics()函数总结了上述搜索和选择的最佳模型的性能\n",
    "print(automl.sprint_statistics())"
   ]
  },
  {
   "cell_type": "code",
   "execution_count": 20,
   "metadata": {},
   "outputs": [
    {
     "name": "stdout",
     "output_type": "stream",
     "text": [
      "          rank  ensemble_weight            type      cost  duration\n",
      "model_id                                                           \n",
      "116          1             0.92  ard_regression  0.016657  4.199336\n",
      "103          2             0.06  ard_regression  0.130231  1.149149\n",
      "95           3             0.02   random_forest  0.506531  1.100669\n"
     ]
    }
   ],
   "source": [
    "# 搜索考虑的所有模型打印排行榜\n",
    "print(automl.leaderboard())"
   ]
  },
  {
   "cell_type": "code",
   "execution_count": 21,
   "metadata": {},
   "outputs": [
    {
     "name": "stdout",
     "output_type": "stream",
     "text": [
      "{95: {'model_id': 95, 'rank': 1, 'cost': 0.5065310048849532, 'ensemble_weight': 0.02, 'data_preprocessor': <autosklearn.pipeline.components.data_preprocessing.DataPreprocessorChoice object at 0x7e489f1f19a0>, 'feature_preprocessor': <autosklearn.pipeline.components.feature_preprocessing.FeaturePreprocessorChoice object at 0x7e489f50aa30>, 'regressor': <autosklearn.pipeline.components.regression.RegressorChoice object at 0x7e489f50a9a0>, 'sklearn_regressor': RandomForestRegressor(bootstrap=False, max_features=0.29645304261538463,\n",
      "                      min_samples_leaf=19, min_samples_split=8,\n",
      "                      n_estimators=512, n_jobs=1, random_state=1,\n",
      "                      warm_start=True)}, 103: {'model_id': 103, 'rank': 2, 'cost': 0.1302309955284524, 'ensemble_weight': 0.06, 'data_preprocessor': <autosklearn.pipeline.components.data_preprocessing.DataPreprocessorChoice object at 0x7e489f506fa0>, 'feature_preprocessor': <autosklearn.pipeline.components.feature_preprocessing.FeaturePreprocessorChoice object at 0x7e489c1fc2e0>, 'regressor': <autosklearn.pipeline.components.regression.RegressorChoice object at 0x7e48996872b0>, 'sklearn_regressor': ARDRegression(alpha_1=0.0006100503207394724, alpha_2=2.958121733275339e-07,\n",
      "              copy_X=False, lambda_1=5.352724252628983e-06,\n",
      "              lambda_2=6.916126419253975e-06,\n",
      "              threshold_lambda=10189.061017641954, tol=0.010617889374550576)}, 116: {'model_id': 116, 'rank': 3, 'cost': 0.016656778677861528, 'ensemble_weight': 0.92, 'data_preprocessor': <autosklearn.pipeline.components.data_preprocessing.DataPreprocessorChoice object at 0x7e489f4814c0>, 'feature_preprocessor': <autosklearn.pipeline.components.feature_preprocessing.FeaturePreprocessorChoice object at 0x7e489f14a100>, 'regressor': <autosklearn.pipeline.components.regression.RegressorChoice object at 0x7e489e7fdac0>, 'sklearn_regressor': ARDRegression(alpha_1=0.000984494361410926, alpha_2=3.0622013070841808e-09,\n",
      "              copy_X=False, lambda_1=2.3597477393646766e-08,\n",
      "              lambda_2=1.674408773014484e-06,\n",
      "              threshold_lambda=9893.383177790169, tol=0.02333592349164805)}}\n"
     ]
    }
   ],
   "source": [
    "# 打印有关所考虑模型的信息\n",
    "print(automl.show_models())"
   ]
  },
  {
   "cell_type": "code",
   "execution_count": 22,
   "metadata": {},
   "outputs": [
    {
     "name": "stdout",
     "output_type": "stream",
     "text": [
      "Mean Absolute Error: 11.25\n"
     ]
    }
   ],
   "source": [
    "y_pred = automl.predict(X_test)\n",
    "print(\"Mean Absolute Error: %.2f\" % metrics.mean_absolute_error(y_test, y_pred))"
   ]
  },
  {
   "cell_type": "code",
   "execution_count": 23,
   "metadata": {},
   "outputs": [
    {
     "data": {
      "image/png": "[encoded data removed]",
      "text/plain": [
       "<Figure size 800x600 with 1 Axes>"
      ]
     },
     "metadata": {},
     "output_type": "display_data"
    }
   ],
   "source": [
    "plt.figure(figsize=(8,6))\n",
    "plt.scatter(y_test, y_pred, c='blue')\n",
    "p1 = max(max(y_pred), max(y_test))\n",
    "p2 = min(min(y_pred), min(y_test))\n",
    "plt.plot([p1, p2], [p1, p2], 'r-')\n",
    "plt.xlabel('Actual', fontsize=10)\n",
    "plt.ylabel('Predicted', fontsize=10)\n",
    "plt.legend(['Actual', 'Predicted'])\n",
    "plt.axis('equal')\n",
    "plt.show()"
   ]
  },
  {
   "cell_type": "markdown",
   "metadata": {},
   "source": [
    "Pickle保存和加载模型"
   ]
  },
  {
   "cell_type": "code",
   "execution_count": null,
   "metadata": {},
   "outputs": [],
   "source": [
    "import pickle\n",
    "# save the model \n",
    "filename = 'final_model.sav' \n",
    "pickle.dump(model, open(filename, 'wb'))"
   ]
  },
  {
   "cell_type": "markdown",
   "metadata": {},
   "source": [
    "#load the model\n",
    "loaded_model = pickle.load(open(filename, 'rb'))\n",
    "result = loaded_model.score(X_test, Y_test)\n",
    "print(result)"
   ]
  },
  {
   "cell_type": "markdown",
   "metadata": {},
   "source": [
    "JobLib保存和加载模型"
   ]
  },
  {
   "cell_type": "code",
   "execution_count": null,
   "metadata": {},
   "outputs": [],
   "source": [
    "import joblib\n",
    "# save the model \n",
    "filename = 'final_model.sav'\n",
    "joblib.dump(model, filename)"
   ]
  },
  {
   "cell_type": "code",
   "execution_count": null,
   "metadata": {},
   "outputs": [],
   "source": [
    "# load the model from disk\n",
    "load_model = joblib.load(filename)\n",
    "result = load_model.score(X_test, Y_test)\n",
    "print(result)"
   ]
  }
 ],
 "metadata": {
  "kernelspec": {
   "display_name": "py3.8",
   "language": "python",
   "name": "python3"
  },
  "language_info": {
   "codemirror_mode": {
    "name": "ipython",
    "version": 3
   },
   "file_extension": ".py",
   "mimetype": "text/x-python",
   "name": "python",
   "nbconvert_exporter": "python",
   "pygments_lexer": "ipython3",
   "version": "undefined.undefined.undefined"
  }
 },
 "nbformat": 4,
 "nbformat_minor": 2
}
